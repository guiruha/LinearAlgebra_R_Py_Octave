{
 "cells": [
  {
   "cell_type": "markdown",
   "metadata": {},
   "source": [
    "## EJERCICIOS DIAGONALIZACIÓN"
   ]
  },
  {
   "cell_type": "code",
   "execution_count": 1,
   "metadata": {},
   "outputs": [],
   "source": [
    "import numpy as np\n",
    "import numpy.linalg as LA"
   ]
  },
  {
   "cell_type": "markdown",
   "metadata": {},
   "source": [
    "**Pregunta 1**"
   ]
  },
  {
   "cell_type": "code",
   "execution_count": 2,
   "metadata": {},
   "outputs": [],
   "source": [
    "A = np.array([[1, 0, 0, 1], [2, -1, 0, -1], \\\n",
    "              [0, -1,  2, 0], [-1, 0, 0, -2]])"
   ]
  },
  {
   "cell_type": "code",
   "execution_count": 3,
   "metadata": {},
   "outputs": [],
   "source": [
    "l, w = LA.eig(A)"
   ]
  },
  {
   "cell_type": "code",
   "execution_count": 4,
   "metadata": {},
   "outputs": [
    {
     "name": "stdout",
     "output_type": "stream",
     "text": [
      "[ 2.         -1.          0.61803399 -1.61803399] \n",
      "  =  =  =  =  =  =  =  =  =  =  =  =  =  =  =  =  =  =  =  =  \n",
      " [[ 0.          0.          0.47416084 -0.12131049]\n",
      " [ 0.          0.9486833   0.69802921  0.90644846]\n",
      " [ 1.          0.31622777  0.50509868  0.25053619]\n",
      " [ 0.          0.         -0.18111332  0.31759498]]\n"
     ]
    }
   ],
   "source": [
    "print(l, '\\n', ' = '*20, '\\n', w)"
   ]
  },
  {
   "cell_type": "markdown",
   "metadata": {},
   "source": [
    "Como podemos observar las multiplicidades algebraicas son iguales a 1 para cada uno de los valores propios, así como las geometricas (todos tienen un dimension uno en sus subespacio)"
   ]
  },
  {
   "cell_type": "markdown",
   "metadata": {},
   "source": [
    "**Pregunta 2**"
   ]
  },
  {
   "cell_type": "code",
   "execution_count": 5,
   "metadata": {},
   "outputs": [],
   "source": [
    "A = np.array([[0, -1], [1, 0]])"
   ]
  },
  {
   "cell_type": "code",
   "execution_count": 6,
   "metadata": {},
   "outputs": [],
   "source": [
    "l, w = LA.eig(A)"
   ]
  },
  {
   "cell_type": "code",
   "execution_count": 7,
   "metadata": {},
   "outputs": [
    {
     "name": "stdout",
     "output_type": "stream",
     "text": [
      "[0.+1.j 0.-1.j] \n",
      "  =  =  =  =  =  =  =  =  =  =  =  =  =  =  =  =  =  =  =  =  \n",
      " [[0.70710678+0.j         0.70710678-0.j        ]\n",
      " [0.        -0.70710678j 0.        +0.70710678j]]\n"
     ]
    }
   ],
   "source": [
    "print(l, '\\n', ' = '*20, '\\n', w)"
   ]
  },
  {
   "cell_type": "code",
   "execution_count": 8,
   "metadata": {},
   "outputs": [],
   "source": [
    "B = np.array([[2, -4, -4],[0, -2, 0], [-4, 4, 2]])"
   ]
  },
  {
   "cell_type": "code",
   "execution_count": 9,
   "metadata": {},
   "outputs": [],
   "source": [
    "l, w = LA.eig(B)"
   ]
  },
  {
   "cell_type": "code",
   "execution_count": 10,
   "metadata": {},
   "outputs": [
    {
     "name": "stdout",
     "output_type": "stream",
     "text": [
      "[ 6. -2. -2.] \n",
      "  =  =  =  =  =  =  =  =  =  =  =  =  =  =  =  =  =  =  =  =  \n",
      " [[ 0.70710678  0.70710678  0.40824829]\n",
      " [ 0.          0.          0.81649658]\n",
      " [-0.70710678  0.70710678 -0.40824829]]\n"
     ]
    }
   ],
   "source": [
    "print(l, '\\n', ' = '*20, '\\n', w)"
   ]
  },
  {
   "cell_type": "markdown",
   "metadata": {},
   "source": [
    "En este caso observamos multiplicidades algebraicas n = 1 para l = 6, y n = 2, para l = -2, en caso de las geométricas sucede igual"
   ]
  },
  {
   "cell_type": "code",
   "execution_count": 11,
   "metadata": {},
   "outputs": [],
   "source": [
    "D = np.array([[2, -1, 3, -3], [0, -1, 0, 0], [-1, 3, 1, 0], [-1, 2, 2, 0]])"
   ]
  },
  {
   "cell_type": "code",
   "execution_count": 12,
   "metadata": {},
   "outputs": [],
   "source": [
    "l, w = LA.eig(D)"
   ]
  },
  {
   "cell_type": "code",
   "execution_count": 13,
   "metadata": {},
   "outputs": [
    {
     "name": "stdout",
     "output_type": "stream",
     "text": [
      "[ 2.67169988+0.j          0.16415006+1.04686932j  0.16415006-1.04686932j\n",
      " -1.        +0.j        ] \n",
      "  =  =  =  =  =  =  =  =  =  =  =  =  =  =  =  =  =  =  =  =  \n",
      " [[-0.70122829+0.j          0.58673072-0.12760922j  0.58673072+0.12760922j\n",
      "   0.77919372+0.j        ]\n",
      " [ 0.        +0.j          0.        +0.j          0.        -0.j\n",
      "   0.41251432+0.j        ]\n",
      " [ 0.4194702 +0.j          0.3477186 +0.28283392j  0.3477186 -0.28283392j\n",
      "  -0.22917462+0.j        ]\n",
      " [ 0.57647519+0.j          0.6622384 +0.j          0.6622384 -0.j\n",
      "   0.41251432+0.j        ]]\n"
     ]
    }
   ],
   "source": [
    "print(l, '\\n', ' = '*20, '\\n', w)"
   ]
  },
  {
   "cell_type": "markdown",
   "metadata": {},
   "source": [
    "**Pregunta 3**"
   ]
  },
  {
   "cell_type": "code",
   "execution_count": 14,
   "metadata": {},
   "outputs": [],
   "source": [
    "A = np.array([[1, 4], [0, 3]])"
   ]
  },
  {
   "cell_type": "code",
   "execution_count": 15,
   "metadata": {},
   "outputs": [],
   "source": [
    "l, w = LA.eig(A)"
   ]
  },
  {
   "cell_type": "code",
   "execution_count": 16,
   "metadata": {},
   "outputs": [
    {
     "name": "stdout",
     "output_type": "stream",
     "text": [
      "[1. 3.] \n",
      "  =  =  =  =  =  =  =  =  =  =  =  =  =  =  =  =  =  =  =  =  \n",
      " [[1.         0.89442719]\n",
      " [0.         0.4472136 ]]\n"
     ]
    }
   ],
   "source": [
    "print(l, '\\n', ' = '*20, '\\n', w)"
   ]
  },
  {
   "cell_type": "code",
   "execution_count": 17,
   "metadata": {},
   "outputs": [
    {
     "name": "stdout",
     "output_type": "stream",
     "text": [
      "[[1. 0.]\n",
      " [0. 3.]]\n"
     ]
    }
   ],
   "source": [
    "D = LA.linalg.matmul(LA.inv(w),A)\n",
    "D = LA.linalg.matmul(D, w)\n",
    "print(D)"
   ]
  },
  {
   "cell_type": "code",
   "execution_count": 18,
   "metadata": {},
   "outputs": [],
   "source": [
    "B = np.array([[1, 2, 0], [2, -1, 5], [0, 5, 1]])"
   ]
  },
  {
   "cell_type": "code",
   "execution_count": 19,
   "metadata": {},
   "outputs": [],
   "source": [
    "l, w = LA.eig(B)"
   ]
  },
  {
   "cell_type": "code",
   "execution_count": 20,
   "metadata": {},
   "outputs": [
    {
     "name": "stdout",
     "output_type": "stream",
     "text": [
      "[-5.47722558  1.          5.47722558] \n",
      "  =  =  =  =  =  =  =  =  =  =  =  =  =  =  =  =  =  =  =  =  \n",
      " [[ 2.37432504e-01  9.28476691e-01  2.85581583e-01]\n",
      " [-7.68951944e-01  2.37389501e-16  6.39306583e-01]\n",
      " [ 5.93581261e-01 -3.71390676e-01  7.13953957e-01]]\n"
     ]
    }
   ],
   "source": [
    "print(l, '\\n', ' = '*20, '\\n', w)"
   ]
  },
  {
   "cell_type": "code",
   "execution_count": 21,
   "metadata": {},
   "outputs": [
    {
     "name": "stdout",
     "output_type": "stream",
     "text": [
      "[[-5.47722558e+00  8.88178420e-16 -1.77635684e-15]\n",
      " [ 9.15933995e-16  1.00000000e+00  1.66533454e-16]\n",
      " [-2.22044605e-15  1.11022302e-15  5.47722558e+00]]\n"
     ]
    }
   ],
   "source": [
    "D = LA.linalg.matmul(LA.inv(w),B)\n",
    "D = LA.linalg.matmul(D, w)\n",
    "print(D)"
   ]
  },
  {
   "cell_type": "code",
   "execution_count": 22,
   "metadata": {},
   "outputs": [],
   "source": [
    "C = np.array([[1, 1, 3], [0, 2, 0], [-2, 0, 3]])"
   ]
  },
  {
   "cell_type": "code",
   "execution_count": 23,
   "metadata": {},
   "outputs": [],
   "source": [
    "l, w = LA.eig(C)"
   ]
  },
  {
   "cell_type": "code",
   "execution_count": 24,
   "metadata": {},
   "outputs": [
    {
     "name": "stdout",
     "output_type": "stream",
     "text": [
      "[2.+2.23606798j 2.-2.23606798j 2.+0.j        ] \n",
      "  =  =  =  =  =  =  =  =  =  =  =  =  =  =  =  =  =  =  =  =  \n",
      " [[ 0.77459667+0.j          0.77459667-0.j         -0.18257419+0.j        ]\n",
      " [ 0.        +0.j          0.        -0.j          0.91287093+0.j        ]\n",
      " [ 0.25819889+0.57735027j  0.25819889-0.57735027j -0.36514837+0.j        ]]\n"
     ]
    }
   ],
   "source": [
    "print(l, '\\n', ' = '*20, '\\n', w)"
   ]
  },
  {
   "cell_type": "markdown",
   "metadata": {},
   "source": [
    "**Pregunta 4**"
   ]
  },
  {
   "cell_type": "code",
   "execution_count": 25,
   "metadata": {},
   "outputs": [],
   "source": [
    "A = np.array([[1, 0, 0, 1], [2, -1, 0, -1],[0, -1, 2, 0], [-1, 0, 0, 2]])"
   ]
  },
  {
   "cell_type": "code",
   "execution_count": 26,
   "metadata": {},
   "outputs": [],
   "source": [
    "l, w = LA.eig(A)"
   ]
  },
  {
   "cell_type": "code",
   "execution_count": 27,
   "metadata": {},
   "outputs": [
    {
     "name": "stdout",
     "output_type": "stream",
     "text": [
      "[ 2. +0.j        -1. +0.j         1.5+0.8660254j  1.5-0.8660254j] \n",
      "  =  =  =  =  =  =  =  =  =  =  =  =  =  =  =  =  =  =  =  =  \n",
      " [[ 0.        +0.j          0.        +0.j          0.29580399-0.51234754j\n",
      "   0.29580399+0.51234754j]\n",
      " [ 0.        +0.j          0.9486833 +0.j         -0.12677314-0.36596253j\n",
      "  -0.12677314+0.36596253j]\n",
      " [ 1.        +0.j          0.31622777+0.j          0.25354628-0.29277002j\n",
      "   0.25354628+0.29277002j]\n",
      " [ 0.        +0.j          0.        +0.j          0.59160798+0.j\n",
      "   0.59160798-0.j        ]]\n"
     ]
    }
   ],
   "source": [
    "print(l, '\\n', ' = '*20, '\\n', w)"
   ]
  },
  {
   "cell_type": "code",
   "execution_count": 28,
   "metadata": {},
   "outputs": [
    {
     "name": "stdout",
     "output_type": "stream",
     "text": [
      "[[ 2.00000000e+00+0.00000000e+00j -1.11022302e-16+0.00000000e+00j\n",
      "  -6.98587048e-17+1.47968247e-16j -1.77168684e-17-7.40763575e-17j]\n",
      " [ 0.00000000e+00+0.00000000e+00j -1.00000000e+00+0.00000000e+00j\n",
      "  -3.10089649e-16+2.68546017e-16j -2.95099925e-16-1.90657126e-16j]\n",
      " [ 0.00000000e+00+0.00000000e+00j  0.00000000e+00+0.00000000e+00j\n",
      "   1.50000000e+00+8.66025404e-01j -1.11022302e-16+2.22044605e-16j]\n",
      " [ 0.00000000e+00+0.00000000e+00j  0.00000000e+00+0.00000000e+00j\n",
      "  -3.33066907e-16-3.33066907e-16j  1.50000000e+00-8.66025404e-01j]]\n"
     ]
    }
   ],
   "source": [
    "D = LA.linalg.matmul(LA.inv(w),A)\n",
    "D = LA.linalg.matmul(D, w)\n",
    "print(D)"
   ]
  },
  {
   "cell_type": "markdown",
   "metadata": {},
   "source": [
    "**Pregunta 5**"
   ]
  },
  {
   "cell_type": "code",
   "execution_count": 29,
   "metadata": {},
   "outputs": [],
   "source": [
    "A = np.array([[1, -1, -1], [-1, 1, -1], [-1, -1, 1]])"
   ]
  },
  {
   "cell_type": "code",
   "execution_count": 30,
   "metadata": {},
   "outputs": [],
   "source": [
    "l, w = LA.eig(A)"
   ]
  },
  {
   "cell_type": "code",
   "execution_count": 31,
   "metadata": {},
   "outputs": [
    {
     "name": "stdout",
     "output_type": "stream",
     "text": [
      "[-1.  2.  2.] \n",
      "  =  =  =  =  =  =  =  =  =  =  =  =  =  =  =  =  =  =  =  =  \n",
      " [[ 0.57735027 -0.81649658  0.42755853]\n",
      " [ 0.57735027  0.40824829 -0.81618716]\n",
      " [ 0.57735027  0.40824829  0.38862863]]\n"
     ]
    }
   ],
   "source": [
    "print(l, '\\n', ' = '*20, '\\n', w)"
   ]
  },
  {
   "cell_type": "code",
   "execution_count": 32,
   "metadata": {},
   "outputs": [
    {
     "name": "stdout",
     "output_type": "stream",
     "text": [
      "[[-1.00000000e+00  5.55111512e-16 -4.44089210e-16]\n",
      " [-3.33066907e-16  2.00000000e+00 -1.11022302e-16]\n",
      " [ 0.00000000e+00  1.11022302e-16  2.00000000e+00]]\n"
     ]
    }
   ],
   "source": [
    "D = LA.linalg.matmul(LA.inv(w),A)\n",
    "D = LA.linalg.matmul(D, w)\n",
    "print(D)"
   ]
  },
  {
   "cell_type": "markdown",
   "metadata": {},
   "source": [
    "**Pregunta 6**"
   ]
  },
  {
   "cell_type": "code",
   "execution_count": 33,
   "metadata": {},
   "outputs": [],
   "source": [
    "A = np.array([[0, 0, 4], [1, 2, 1], [2, 4, -2]])"
   ]
  },
  {
   "cell_type": "code",
   "execution_count": 34,
   "metadata": {},
   "outputs": [],
   "source": [
    "l, w = LA.eig(A)"
   ]
  },
  {
   "cell_type": "code",
   "execution_count": 35,
   "metadata": {},
   "outputs": [
    {
     "name": "stdout",
     "output_type": "stream",
     "text": [
      "[ 4.00000000e+00  3.81639165e-17 -4.00000000e+00] \n",
      "  =  =  =  =  =  =  =  =  =  =  =  =  =  =  =  =  =  =  =  =  \n",
      " [[-5.77350269e-01 -8.94427191e-01 -7.07106781e-01]\n",
      " [-5.77350269e-01  4.47213595e-01  4.19624860e-16]\n",
      " [-5.77350269e-01  0.00000000e+00  7.07106781e-01]]\n"
     ]
    }
   ],
   "source": [
    "print(l, '\\n', ' = '*20, '\\n', w)"
   ]
  },
  {
   "cell_type": "code",
   "execution_count": 36,
   "metadata": {},
   "outputs": [
    {
     "name": "stdout",
     "output_type": "stream",
     "text": [
      "[[ 4.  0. -1.]\n",
      " [-1.  0.  0.]\n",
      " [-1. -1. -4.]]\n"
     ]
    }
   ],
   "source": [
    "D = LA.linalg.matmul(LA.inv(w),A)\n",
    "D = LA.linalg.matmul(D, w)\n",
    "print(np.floor(D)) # LOS -1 son 0 en realidad"
   ]
  },
  {
   "cell_type": "markdown",
   "metadata": {},
   "source": [
    "**Pregunta 7**"
   ]
  },
  {
   "cell_type": "code",
   "execution_count": 37,
   "metadata": {},
   "outputs": [],
   "source": [
    "A = np.array([[3, -1 ,1], [0,2, 0], [1, -1, 3]])"
   ]
  },
  {
   "cell_type": "code",
   "execution_count": 38,
   "metadata": {},
   "outputs": [
    {
     "data": {
      "text/plain": [
       "array([[ 3, -1,  1],\n",
       "       [ 0,  2,  0],\n",
       "       [ 1, -1,  3]])"
      ]
     },
     "execution_count": 38,
     "metadata": {},
     "output_type": "execute_result"
    }
   ],
   "source": [
    "A"
   ]
  },
  {
   "cell_type": "code",
   "execution_count": 39,
   "metadata": {},
   "outputs": [],
   "source": [
    "l, w = LA.eig(A)"
   ]
  },
  {
   "cell_type": "code",
   "execution_count": 40,
   "metadata": {},
   "outputs": [
    {
     "name": "stdout",
     "output_type": "stream",
     "text": [
      "[4. 2. 2.] \n",
      "  =  =  =  =  =  =  =  =  =  =  =  =  =  =  =  =  =  =  =  =  \n",
      " [[ 0.70710678 -0.70710678  0.40824829]\n",
      " [ 0.          0.          0.81649658]\n",
      " [ 0.70710678  0.70710678  0.40824829]]\n"
     ]
    }
   ],
   "source": [
    "print(l, '\\n', ' = '*20, '\\n', w)"
   ]
  },
  {
   "cell_type": "markdown",
   "metadata": {},
   "source": [
    "**Pregunta 8**"
   ]
  },
  {
   "cell_type": "code",
   "execution_count": 41,
   "metadata": {},
   "outputs": [],
   "source": [
    "A = np.array([[1, -4, 0], [0, 4, 0], [0, 0, 3]])"
   ]
  },
  {
   "cell_type": "code",
   "execution_count": 42,
   "metadata": {},
   "outputs": [],
   "source": [
    "l, w = LA.linalg.eig(A)"
   ]
  },
  {
   "cell_type": "code",
   "execution_count": 43,
   "metadata": {},
   "outputs": [
    {
     "name": "stdout",
     "output_type": "stream",
     "text": [
      "[1. 4. 3.] \n",
      "  =  =  =  =  =  =  =  =  =  =  =  =  =  =  =  =  =  =  =  =  \n",
      " [[ 1.  -0.8  0. ]\n",
      " [ 0.   0.6  0. ]\n",
      " [ 0.   0.   1. ]]\n"
     ]
    }
   ],
   "source": [
    "print(l, '\\n', ' = '*20, '\\n', w)"
   ]
  },
  {
   "cell_type": "markdown",
   "metadata": {},
   "source": [
    "**Pregunta 12**"
   ]
  },
  {
   "cell_type": "code",
   "execution_count": 44,
   "metadata": {},
   "outputs": [],
   "source": [
    "A = np.array([[0, 1], [-1, 1]])"
   ]
  },
  {
   "cell_type": "code",
   "execution_count": 45,
   "metadata": {},
   "outputs": [],
   "source": [
    "l, w = LA.eig(A)"
   ]
  },
  {
   "cell_type": "code",
   "execution_count": 46,
   "metadata": {},
   "outputs": [
    {
     "name": "stdout",
     "output_type": "stream",
     "text": [
      "[0.5+0.8660254j 0.5-0.8660254j] \n",
      "  =  =  =  =  =  =  =  =  =  =  =  =  =  =  =  =  =  =  =  =  \n",
      " [[0.70710678+0.j         0.70710678-0.j        ]\n",
      " [0.35355339+0.61237244j 0.35355339-0.61237244j]]\n"
     ]
    }
   ],
   "source": [
    "print(l, '\\n', ' = '*20, '\\n', w)"
   ]
  },
  {
   "cell_type": "code",
   "execution_count": 47,
   "metadata": {},
   "outputs": [
    {
     "name": "stdout",
     "output_type": "stream",
     "text": [
      "[[5.00000000e-01+8.66025404e-01j 1.94289029e-16+1.66533454e-16j]\n",
      " [1.94289029e-16-1.66533454e-16j 5.00000000e-01-8.66025404e-01j]]\n"
     ]
    }
   ],
   "source": [
    "D = LA.linalg.matmul(LA.inv(w),A)\n",
    "D = LA.linalg.matmul(D, w)\n",
    "print(D)"
   ]
  },
  {
   "cell_type": "code",
   "execution_count": 48,
   "metadata": {},
   "outputs": [],
   "source": [
    "B = np.array([[4, -2, -2], [0, -2, 0], [-2, 2, 4]])"
   ]
  },
  {
   "cell_type": "code",
   "execution_count": 49,
   "metadata": {},
   "outputs": [],
   "source": [
    "l, w = LA.eig(B)"
   ]
  },
  {
   "cell_type": "code",
   "execution_count": 50,
   "metadata": {},
   "outputs": [
    {
     "name": "stdout",
     "output_type": "stream",
     "text": [
      "[ 6.  2. -2.] \n",
      "  =  =  =  =  =  =  =  =  =  =  =  =  =  =  =  =  =  =  =  =  \n",
      " [[ 0.70710678  0.70710678  0.23570226]\n",
      " [ 0.          0.          0.94280904]\n",
      " [-0.70710678  0.70710678 -0.23570226]]\n"
     ]
    }
   ],
   "source": [
    "print(l, '\\n', ' = '*20, '\\n', w)"
   ]
  },
  {
   "cell_type": "code",
   "execution_count": 51,
   "metadata": {},
   "outputs": [],
   "source": [
    "C = np.array([[-3, 5, 5], [0, -2, 0], [-2, 2, 4]])"
   ]
  },
  {
   "cell_type": "code",
   "execution_count": 52,
   "metadata": {},
   "outputs": [],
   "source": [
    "l, w = LA.eig(C)"
   ]
  },
  {
   "cell_type": "code",
   "execution_count": 53,
   "metadata": {},
   "outputs": [
    {
     "name": "stdout",
     "output_type": "stream",
     "text": [
      "[-1.  2. -2.] \n",
      "  =  =  =  =  =  =  =  =  =  =  =  =  =  =  =  =  =  =  =  =  \n",
      " [[-0.92847669 -0.70710678 -0.91287093]\n",
      " [ 0.          0.          0.18257419]\n",
      " [-0.37139068 -0.70710678 -0.36514837]]\n"
     ]
    }
   ],
   "source": [
    "print(l, '\\n', ' = '*20, '\\n', w)"
   ]
  },
  {
   "cell_type": "code",
   "execution_count": 54,
   "metadata": {},
   "outputs": [],
   "source": [
    "D = np.array([[1, 1, 1, 1],[1, 1, -1, -1],[1, -1, 1, -1], [1, -1, -1, 1]])"
   ]
  },
  {
   "cell_type": "code",
   "execution_count": 55,
   "metadata": {},
   "outputs": [],
   "source": [
    "l, w = LA.eig(D)"
   ]
  },
  {
   "cell_type": "code",
   "execution_count": 56,
   "metadata": {},
   "outputs": [
    {
     "name": "stdout",
     "output_type": "stream",
     "text": [
      "[ 2. -2.  2.  2.] \n",
      "  =  =  =  =  =  =  =  =  =  =  =  =  =  =  =  =  =  =  =  =  \n",
      " [[ 0.8660254   0.5         0.2085966  -0.04421078]\n",
      " [ 0.28867513 -0.5         0.86198968  0.18303437]\n",
      " [ 0.28867513 -0.5        -0.32669654 -0.79872244]\n",
      " [ 0.28867513 -0.5        -0.32669654  0.57147729]]\n"
     ]
    }
   ],
   "source": [
    "print(l, '\\n', ' = '*20, '\\n', w)"
   ]
  },
  {
   "cell_type": "markdown",
   "metadata": {},
   "source": [
    "**Pregunta 13**"
   ]
  },
  {
   "cell_type": "code",
   "execution_count": 57,
   "metadata": {},
   "outputs": [],
   "source": [
    "A = np.array([[4,1],[0,-3]])"
   ]
  },
  {
   "cell_type": "code",
   "execution_count": 58,
   "metadata": {},
   "outputs": [],
   "source": [
    "l, w = LA.eig(A)"
   ]
  },
  {
   "cell_type": "code",
   "execution_count": 59,
   "metadata": {},
   "outputs": [
    {
     "name": "stdout",
     "output_type": "stream",
     "text": [
      "[ 4. -3.] \n",
      "  =  =  =  =  =  =  =  =  =  =  =  =  =  =  =  =  =  =  =  =  \n",
      " [[ 1.         -0.14142136]\n",
      " [ 0.          0.98994949]]\n"
     ]
    }
   ],
   "source": [
    "print(l, '\\n', ' = '*20, '\\n', w)"
   ]
  },
  {
   "cell_type": "code",
   "execution_count": 60,
   "metadata": {},
   "outputs": [
    {
     "name": "stdout",
     "output_type": "stream",
     "text": [
      "[[ 4.  0.]\n",
      " [ 0. -3.]]\n"
     ]
    }
   ],
   "source": [
    "D = LA.linalg.matmul(LA.inv(w),A)\n",
    "D = LA.linalg.matmul(D, w)\n",
    "print(D)"
   ]
  },
  {
   "cell_type": "code",
   "execution_count": 71,
   "metadata": {},
   "outputs": [],
   "source": [
    "B = np.array([[-1, -2, 1], [0, 2, 0], [-1, 13, -3]])"
   ]
  },
  {
   "cell_type": "code",
   "execution_count": 72,
   "metadata": {},
   "outputs": [],
   "source": [
    "l, w = LA.eig(B)"
   ]
  },
  {
   "cell_type": "code",
   "execution_count": 73,
   "metadata": {},
   "outputs": [
    {
     "name": "stdout",
     "output_type": "stream",
     "text": [
      "[-1.99999998 -2.00000002  2.        ] \n",
      "  =  =  =  =  =  =  =  =  =  =  =  =  =  =  =  =  =  =  =  =  \n",
      " [[ 0.70710679 -0.70710677  0.06800641]\n",
      " [ 0.          0.          0.36270084]\n",
      " [-0.70710677  0.70710679  0.92942091]]\n"
     ]
    }
   ],
   "source": [
    "print(l, '\\n', ' = '*20, '\\n', w)"
   ]
  },
  {
   "cell_type": "code",
   "execution_count": null,
   "metadata": {},
   "outputs": [],
   "source": []
  },
  {
   "cell_type": "code",
   "execution_count": null,
   "metadata": {},
   "outputs": [],
   "source": []
  },
  {
   "cell_type": "code",
   "execution_count": null,
   "metadata": {},
   "outputs": [],
   "source": []
  },
  {
   "cell_type": "code",
   "execution_count": null,
   "metadata": {},
   "outputs": [],
   "source": []
  },
  {
   "cell_type": "code",
   "execution_count": null,
   "metadata": {},
   "outputs": [],
   "source": []
  },
  {
   "cell_type": "code",
   "execution_count": null,
   "metadata": {},
   "outputs": [],
   "source": []
  },
  {
   "cell_type": "code",
   "execution_count": null,
   "metadata": {},
   "outputs": [],
   "source": []
  },
  {
   "cell_type": "code",
   "execution_count": null,
   "metadata": {},
   "outputs": [],
   "source": []
  },
  {
   "cell_type": "code",
   "execution_count": null,
   "metadata": {},
   "outputs": [],
   "source": []
  },
  {
   "cell_type": "code",
   "execution_count": null,
   "metadata": {},
   "outputs": [],
   "source": []
  },
  {
   "cell_type": "code",
   "execution_count": null,
   "metadata": {},
   "outputs": [],
   "source": []
  },
  {
   "cell_type": "code",
   "execution_count": null,
   "metadata": {},
   "outputs": [],
   "source": []
  },
  {
   "cell_type": "code",
   "execution_count": null,
   "metadata": {},
   "outputs": [],
   "source": []
  },
  {
   "cell_type": "code",
   "execution_count": null,
   "metadata": {},
   "outputs": [],
   "source": []
  }
 ],
 "metadata": {
  "kernelspec": {
   "display_name": "Python 3",
   "language": "python",
   "name": "python3"
  },
  "language_info": {
   "codemirror_mode": {
    "name": "ipython",
    "version": 3
   },
   "file_extension": ".py",
   "mimetype": "text/x-python",
   "name": "python",
   "nbconvert_exporter": "python",
   "pygments_lexer": "ipython3",
   "version": "3.7.3"
  }
 },
 "nbformat": 4,
 "nbformat_minor": 4
}
