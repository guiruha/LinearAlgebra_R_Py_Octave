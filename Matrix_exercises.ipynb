{
 "cells": [
  {
   "cell_type": "markdown",
   "metadata": {},
   "source": [
    "PREGUNTA 1"
   ]
  },
  {
   "cell_type": "code",
   "execution_count": 1,
   "metadata": {},
   "outputs": [],
   "source": [
    "import numpy as np"
   ]
  },
  {
   "cell_type": "code",
   "execution_count": 3,
   "metadata": {},
   "outputs": [],
   "source": [
    "A = np.array([[0, 1, -2], [2, 3 , -1],[1, -1, 5]])\n",
    "B = np.array([[1, -1, 2, 1], [2, -2, 2, -2], [-1, 2, 1, 2]])\n",
    "C = np.array([2, 0, 1, -4])"
   ]
  },
  {
   "cell_type": "code",
   "execution_count": 6,
   "metadata": {},
   "outputs": [
    {
     "name": "stdout",
     "output_type": "stream",
     "text": [
      "[[  4  -6   0  -6]\n",
      " [  9 -10   9  -6]\n",
      " [ -6  11   5  13]]\n",
      "==================================================\n",
      "[ 0 14 -9]\n",
      "==================================================\n",
      "[[ 1  2 -1]\n",
      " [-1 -2  2]\n",
      " [ 2  2  1]\n",
      " [ 1 -2  2]]\n",
      "==================================================\n",
      "[[ 3  8 -9]\n",
      " [-2 -9 14]\n",
      " [ 5  7 -1]\n",
      " [-2 -7 10]]\n",
      "==================================================\n",
      "[ 0 14 -9]\n"
     ]
    }
   ],
   "source": [
    "print(A.dot(B))\n",
    "print('=' * 50)\n",
    "print(B.dot(C))\n",
    "print('=' * 50)\n",
    "print(B.transpose())\n",
    "print('=' * 50)\n",
    "print(B.transpose().dot(A))\n",
    "print('=' * 50)\n",
    "print(C.transpose().dot(B.transpose()))"
   ]
  },
  {
   "cell_type": "markdown",
   "metadata": {},
   "source": [
    "PREGUNTA 2"
   ]
  },
  {
   "cell_type": "code",
   "execution_count": 7,
   "metadata": {},
   "outputs": [],
   "source": [
    "A = np.array([[0, 1], [0, 1]])\n",
    "B = np.array([[-1, -1], [0, 0]])"
   ]
  },
  {
   "cell_type": "code",
   "execution_count": 9,
   "metadata": {},
   "outputs": [
    {
     "data": {
      "text/plain": [
       "array([[ True, False],\n",
       "       [ True,  True]])"
      ]
     },
     "execution_count": 9,
     "metadata": {},
     "output_type": "execute_result"
    }
   ],
   "source": [
    "(A + B) ** 2 == A ** 2 + 2*A.dot(B) + B ** 2"
   ]
  },
  {
   "cell_type": "code",
   "execution_count": 10,
   "metadata": {},
   "outputs": [
    {
     "data": {
      "text/plain": [
       "array([[ True,  True],\n",
       "       [ True,  True]])"
      ]
     },
     "execution_count": 10,
     "metadata": {},
     "output_type": "execute_result"
    }
   ],
   "source": [
    "(A + B) ** 3 == A ** 3 + 3 * A.dot(B**2) + B ** 3"
   ]
  },
  {
   "cell_type": "markdown",
   "metadata": {},
   "source": [
    "PREGUNTA 3"
   ]
  },
  {
   "cell_type": "code",
   "execution_count": 11,
   "metadata": {},
   "outputs": [],
   "source": [
    "A = np.array([[-1, 1, -2], [1, 1, 0], [2, 1, 1]])\n",
    "B = np.array([[-1, 2, 3, 4, 5], [1, 2, 1, 3, 2], [0, 4, 4, 7, 7]])"
   ]
  },
  {
   "cell_type": "code",
   "execution_count": 13,
   "metadata": {},
   "outputs": [
    {
     "name": "stdout",
     "output_type": "stream",
     "text": [
      "2\n",
      "2\n"
     ]
    }
   ],
   "source": [
    "print(np.linalg.matrix_rank(A))\n",
    "print(np.linalg.matrix_rank(B))"
   ]
  },
  {
   "cell_type": "code",
   "execution_count": 14,
   "metadata": {},
   "outputs": [],
   "source": [
    "A = np.array([[1, 2, 0], [0, 1, -1], [0, 0, 2]])\n",
    "B = np.array([[1j, 0, 0], [0, 0, 1], [1, 1j, 0]])"
   ]
  },
  {
   "cell_type": "code",
   "execution_count": 15,
   "metadata": {},
   "outputs": [
    {
     "name": "stdout",
     "output_type": "stream",
     "text": [
      "[[ 1.  -2.  -1. ]\n",
      " [ 0.   1.   0.5]\n",
      " [ 0.   0.   0.5]]\n",
      "[[0.-1.j 0.+0.j 0.+0.j]\n",
      " [1.+0.j 0.+0.j 0.-1.j]\n",
      " [0.+0.j 1.+0.j 0.+0.j]]\n"
     ]
    }
   ],
   "source": [
    "print(np.linalg.inv(A))\n",
    "print(np.linalg.inv(B))"
   ]
  },
  {
   "cell_type": "code",
   "execution_count": null,
   "metadata": {},
   "outputs": [],
   "source": []
  },
  {
   "cell_type": "code",
   "execution_count": null,
   "metadata": {},
   "outputs": [],
   "source": []
  },
  {
   "cell_type": "code",
   "execution_count": null,
   "metadata": {},
   "outputs": [],
   "source": []
  },
  {
   "cell_type": "code",
   "execution_count": null,
   "metadata": {},
   "outputs": [],
   "source": []
  },
  {
   "cell_type": "code",
   "execution_count": null,
   "metadata": {},
   "outputs": [],
   "source": []
  },
  {
   "cell_type": "code",
   "execution_count": null,
   "metadata": {},
   "outputs": [],
   "source": []
  }
 ],
 "metadata": {
  "kernelspec": {
   "display_name": "Python 3",
   "language": "python",
   "name": "python3"
  },
  "language_info": {
   "codemirror_mode": {
    "name": "ipython",
    "version": 3
   },
   "file_extension": ".py",
   "mimetype": "text/x-python",
   "name": "python",
   "nbconvert_exporter": "python",
   "pygments_lexer": "ipython3",
   "version": "3.7.3"
  }
 },
 "nbformat": 4,
 "nbformat_minor": 2
}
