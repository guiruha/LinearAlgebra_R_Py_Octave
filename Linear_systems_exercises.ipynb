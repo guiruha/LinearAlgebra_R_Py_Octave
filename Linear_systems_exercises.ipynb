{
 "cells": [
  {
   "cell_type": "markdown",
   "metadata": {},
   "source": [
    "# EJERCICIO 1"
   ]
  },
  {
   "cell_type": "code",
   "execution_count": 27,
   "metadata": {},
   "outputs": [],
   "source": [
    "import numpy as np\n",
    "A = np.array([[10, 2, -1, 1, 0, 10], [-1, 3, 0, 0, -1, 5], \\\n",
    "             [0, -1, 3, -1, 0, 0], [17, 1, 0, 3, 5, -15], \\\n",
    "            [0, -10, 0, -5, 3, 0], [-3, 1, 1, 1, -2, 2]])\n",
    "b = np.array([[0], [5], [5], [4], [-21], [11]])\n",
    "AB = np.append(A, B, axis = 1)"
   ]
  },
  {
   "cell_type": "code",
   "execution_count": 28,
   "metadata": {},
   "outputs": [
    {
     "name": "stdout",
     "output_type": "stream",
     "text": [
      "True\n",
      "True\n"
     ]
    }
   ],
   "source": [
    "print(np.linalg.matrix_rank(AB) == np.linalg.matrix_rank(A))\n",
    "print(np.linalg.matrix_rank(AB) == 6)\n",
    "# Según Rouche-Frobenius es un sistema compatible determinado"
   ]
  },
  {
   "cell_type": "code",
   "execution_count": 29,
   "metadata": {},
   "outputs": [
    {
     "name": "stdout",
     "output_type": "stream",
     "text": [
      "x 0  =  -20.405063291139257\n",
      "x 1  =  -6.012658227848095\n",
      "x 2  =  21.708860759493685\n",
      "x 3  =  66.13924050632914\n",
      "x 4  =  83.18987341772159\n",
      "x 5  =  17.16455696202533\n"
     ]
    }
   ],
   "source": [
    "x = np.linalg.solve(A, b)\n",
    "for i, xi in enumerate(x):\n",
    "    print(\"x\", i, \" = \", xi[0])"
   ]
  },
  {
   "cell_type": "markdown",
   "metadata": {},
   "source": [
    "### con Octave:\n",
    "\n",
    "rank(A) == rank(AB)\n",
    "\n",
    "rank(A) == 6\n",
    "\n",
    "x = linsolve(A, b)"
   ]
  },
  {
   "cell_type": "markdown",
   "metadata": {},
   "source": [
    "# EJERCICIO 2"
   ]
  },
  {
   "cell_type": "code",
   "execution_count": 31,
   "metadata": {},
   "outputs": [],
   "source": [
    "# Esta vez utilizaremos la librería simpy\n",
    "from sympy import *\n",
    "from sympy.solvers.solveset import linsolve"
   ]
  },
  {
   "cell_type": "code",
   "execution_count": 32,
   "metadata": {},
   "outputs": [],
   "source": [
    "x1,x2,x3,x4,x5,x6,x7 = symbols('x1,x2,x3,x4,x5,x6,x7')"
   ]
  },
  {
   "cell_type": "code",
   "execution_count": 44,
   "metadata": {},
   "outputs": [],
   "source": [
    "A = np.array([[-2, 2, -1, 1, 0, 4, 0], [-1,-3, 0, 0,-1, 5,-3], \\\n",
    "[0, -1, 3, -1, 0, 0, 0], [0, 1, 0, 3, -2, 1, 4], \\\n",
    "[0, -3, 0, -5, 3, 0, -2], [-3, 1, 1, 1, -2, 2, 1]])\n",
    "b = np.array([[5],[3],[5],[0],[5],[0]])\n",
    "AB = np.append(A, b, axis = 1)"
   ]
  },
  {
   "cell_type": "code",
   "execution_count": 48,
   "metadata": {},
   "outputs": [
    {
     "name": "stdout",
     "output_type": "stream",
     "text": [
      "True\n",
      "False\n"
     ]
    }
   ],
   "source": [
    "print(np.linalg.matrix_rank(AB) == np.linalg.matrix_rank(A))\n",
    "print(np.linalg.matrix_rank(AB) == 7)"
   ]
  },
  {
   "cell_type": "code",
   "execution_count": 38,
   "metadata": {},
   "outputs": [
    {
     "data": {
      "text/latex": [
       "$\\displaystyle \\left\\{\\left( \\frac{467}{7} - \\frac{529 x_{7}}{7}, \\  \\frac{383}{7} - \\frac{431 x_{7}}{7}, \\  \\frac{199 x_{7}}{14} - \\frac{149}{14}, \\  \\frac{1459 x_{7}}{14} - \\frac{1283}{14}, \\  \\frac{1579 x_{7}}{14} - \\frac{1349}{14}, \\  \\frac{55}{2} - \\frac{59 x_{7}}{2}, \\  x_{7}\\right)\\right\\}$"
      ],
      "text/plain": [
       "FiniteSet((467/7 - 529*x7/7, 383/7 - 431*x7/7, 199*x7/14 - 149/14, 1459*x7/14 - 1283/14, 1579*x7/14 - 1349/14, 55/2 - 59*x7/2, x7))"
      ]
     },
     "execution_count": 38,
     "metadata": {},
     "output_type": "execute_result"
    }
   ],
   "source": [
    "# Es un sistema compatible indeterminado\n",
    "linsolve([-2*x1 + 2*x2 - x3 + x4 +4*x6 -5, -x1 - 3*x2 - x5 + 5*x6 -3, \\\n",
    "         -x2 + 3*x3 - x4 - 5, x2 + 3*x4 - 2*x5 + x6 + 4*x7, \\\n",
    "         -3*x2 -5*x4 + 3*x5 - 2*x7 - 5, -3*x1 + x2 + x3 + x4 - 2*x5 \\\n",
    "         + 2*x6 + x7], (x1,x2,x3,x4,x5,x6,x7))"
   ]
  },
  {
   "cell_type": "markdown",
   "metadata": {},
   "source": [
    "### con Octave:\n",
    "\n",
    "rank(A) == rank(AB)\n",
    "\n",
    "rank(A) == 6\n",
    "\n",
    "x = linsolve(A, b)"
   ]
  },
  {
   "cell_type": "markdown",
   "metadata": {},
   "source": [
    "<img src=\"/Imagenes/Captura de pantalla de 2020-01-23 23-13-59.png\">"
   ]
  },
  {
   "cell_type": "markdown",
   "metadata": {},
   "source": [
    "# EJERCICIO 4"
   ]
  },
  {
   "cell_type": "code",
   "execution_count": null,
   "metadata": {},
   "outputs": [],
   "source": []
  },
  {
   "cell_type": "code",
   "execution_count": null,
   "metadata": {},
   "outputs": [],
   "source": []
  },
  {
   "cell_type": "code",
   "execution_count": null,
   "metadata": {},
   "outputs": [],
   "source": []
  },
  {
   "cell_type": "code",
   "execution_count": null,
   "metadata": {},
   "outputs": [],
   "source": []
  },
  {
   "cell_type": "code",
   "execution_count": null,
   "metadata": {},
   "outputs": [],
   "source": []
  },
  {
   "cell_type": "code",
   "execution_count": null,
   "metadata": {},
   "outputs": [],
   "source": []
  },
  {
   "cell_type": "code",
   "execution_count": null,
   "metadata": {},
   "outputs": [],
   "source": []
  },
  {
   "cell_type": "code",
   "execution_count": null,
   "metadata": {},
   "outputs": [],
   "source": []
  },
  {
   "cell_type": "code",
   "execution_count": null,
   "metadata": {},
   "outputs": [],
   "source": []
  }
 ],
 "metadata": {
  "kernelspec": {
   "display_name": "Python 3",
   "language": "python",
   "name": "python3"
  },
  "language_info": {
   "codemirror_mode": {
    "name": "ipython",
    "version": 3
   },
   "file_extension": ".py",
   "mimetype": "text/x-python",
   "name": "python",
   "nbconvert_exporter": "python",
   "pygments_lexer": "ipython3",
   "version": "3.7.5"
  }
 },
 "nbformat": 4,
 "nbformat_minor": 2
}
